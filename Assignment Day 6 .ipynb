{
 "cells": [
  {
   "cell_type": "markdown",
   "metadata": {},
   "source": [
    "#Question 1\n",
    "\n",
    "Assuming that we have some email addresses in the \"username@companyname.com\" format, please write program to print the company name of a given email address. Both user names and company names are composed of letters only. "
   ]
  },
  {
   "cell_type": "code",
   "execution_count": 5,
   "metadata": {},
   "outputs": [
    {
     "name": "stdout",
     "output_type": "stream",
     "text": [
      "Email ID:john@google.com\n",
      "google\n"
     ]
    }
   ],
   "source": [
    "a = input (\"Email ID:\")\n",
    "print (a[5:11])"
   ]
  },
  {
   "cell_type": "markdown",
   "metadata": {},
   "source": [
    "#Question 2\n",
    "\n",
    "Write a program that accepts a comma-separated sequence of words as input and prints the words in a comma separated sequence after sorting them alphabetically. "
   ]
  },
  {
   "cell_type": "code",
   "execution_count": 8,
   "metadata": {},
   "outputs": [
    {
     "name": "stdout",
     "output_type": "stream",
     "text": [
      "enter comma-seperated sequence of words:without,hello,bag,world\n",
      "['bag', 'hello', 'without', 'world']"
     ]
    }
   ],
   "source": [
    "my_arr=list(input('enter comma-seperated sequence of words:').split(','))\n",
    "my_arr.sort()\n",
    "print(my_arr,end='')"
   ]
  },
  {
   "cell_type": "markdown",
   "metadata": {},
   "source": [
    "#Question 3\n",
    "\n",
    "Create your own Jupyter Notebook for Sets.\n",
    "Reference link: https://www.w3schools.com/python/python_sets.asp"
   ]
  },
  {
   "cell_type": "code",
   "execution_count": 10,
   "metadata": {},
   "outputs": [
    {
     "name": "stdout",
     "output_type": "stream",
     "text": [
      "{'cherry', 'mango', 'apple'}\n"
     ]
    }
   ],
   "source": [
    "set={\"apple\", \"cherry\", \"mango\"}\n",
    "print(set)"
   ]
  },
  {
   "cell_type": "markdown",
   "metadata": {},
   "source": [
    "#Question 4\n",
    "\n",
    "Given a list of n-1 numbers ranging from 1 to n, your task is to find the missing number. There are no duplicates"
   ]
  },
  {
   "cell_type": "code",
   "execution_count": 12,
   "metadata": {},
   "outputs": [
    {
     "name": "stdout",
     "output_type": "stream",
     "text": [
      "[4, 5]\n"
     ]
    }
   ],
   "source": [
    "def find_missing(lst):\n",
    "    return [i for x, y in zip (lst,lst[1:])\n",
    "            for i in range(x + 1, y) if y - x > 1]\n",
    "lst = [1,2,3,6,7,8]\n",
    "print(find_missing(lst))"
   ]
  },
  {
   "cell_type": "markdown",
   "metadata": {},
   "source": [
    "#Question 5\n",
    "\n",
    "With a given list L, write a program to print this list L after removing all duplicate values with original order reserved. "
   ]
  },
  {
   "cell_type": "code",
   "execution_count": 13,
   "metadata": {},
   "outputs": [
    {
     "name": "stdout",
     "output_type": "stream",
     "text": [
      "enter the list with elements seprated by space:12 24 35 24 88 120 155 88 120 155\n",
      "sorted list: 12 24 35 88 120 155\n"
     ]
    }
   ],
   "source": [
    "input_list = input(\"enter the list with elements seprated by space:\").split()\n",
    "user_list1 = list(dict.fromkeys(input_list))\n",
    "print(\"sorted list:\", *user_list1)"
   ]
  },
  {
   "cell_type": "code",
   "execution_count": null,
   "metadata": {},
   "outputs": [],
   "source": []
  }
 ],
 "metadata": {
  "kernelspec": {
   "display_name": "Python 3",
   "language": "python",
   "name": "python3"
  },
  "language_info": {
   "codemirror_mode": {
    "name": "ipython",
    "version": 3
   },
   "file_extension": ".py",
   "mimetype": "text/x-python",
   "name": "python",
   "nbconvert_exporter": "python",
   "pygments_lexer": "ipython3",
   "version": "3.7.6"
  }
 },
 "nbformat": 4,
 "nbformat_minor": 4
}
