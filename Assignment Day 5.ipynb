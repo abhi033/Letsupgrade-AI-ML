{
 "cells": [
  {
   "cell_type": "markdown",
   "metadata": {},
   "source": [
    "Write a Python program to find the first 20 non-even prime natural numbers. "
   ]
  },
  {
   "cell_type": "code",
   "execution_count": 3,
   "metadata": {},
   "outputs": [
    {
     "name": "stdout",
     "output_type": "stream",
     "text": [
      "Enter no.100\n",
      "First 20 Prime nos are:\n"
     ]
    },
    {
     "data": {
      "text/plain": [
       "[3, 5, 7, 11, 13, 17, 19, 23, 29, 31, 37, 41, 43, 47, 53, 59, 61, 67, 71, 73]"
      ]
     },
     "execution_count": 3,
     "metadata": {},
     "output_type": "execute_result"
    }
   ],
   "source": [
    "no=int(input(\"Enter no.\"))\n",
    "count=0\n",
    "n = 100\n",
    "prime= []\n",
    "for i in range(2,n+1):\n",
    "    if count<=20:\n",
    "\n",
    "        for j in range(2,i):\n",
    "            if i%j == 0:\n",
    "                break\n",
    "                \n",
    "        else:\n",
    "            prime.append(i)\n",
    "            count+=1\n",
    "    else:\n",
    "    \n",
    "        break\n",
    "\n",
    "for i in prime:\n",
    "    if i%2 == 0:\n",
    "        prime.remove(i)\n",
    "        print(\"First 20 Prime nos are:\")\n",
    "prime"
   ]
  },
  {
   "cell_type": "markdown",
   "metadata": {},
   "source": [
    "Write a Python program to implement 15 functions of string"
   ]
  },
  {
   "cell_type": "code",
   "execution_count": 4,
   "metadata": {},
   "outputs": [
    {
     "name": "stdout",
     "output_type": "stream",
     "text": [
      "abcabczyxwzyxw\n",
      "ABCABCZYXWZYXW\n",
      "['abcABCzyxwZYXW']\n",
      "abcABCzyxwZYXW\n",
      "4\n",
      "abcABCzyxwZYXW\n",
      "Abcabczyxwzyxw\n",
      "True\n",
      "Abcabczyxwzyxw\n",
      "abcabczyxwzyxw\n",
      "1\n",
      "b'abcABCzyxwZYXW'\n",
      "False\n",
      "abcABCzyxwZYXW\n",
      "10\n"
     ]
    }
   ],
   "source": [
    "a = 'abcABCzyxwZYXW'\n",
    "\n",
    "print(a.lower())\n",
    "print(a.upper())\n",
    "print(a.split())\n",
    "print(a.format())\n",
    "print(a.index('B'))\n",
    "print(a.lstrip())\n",
    "print(a.title())\n",
    "print(a.isidentifier())\n",
    "print(a.capitalize())\n",
    "print(a.casefold())\n",
    "print(a.count('y'))\n",
    "print(a.encode())\n",
    "print(a.endswith('z'))\n",
    "print(a.expandtabs())\n",
    "print(a.find('Z'))"
   ]
  },
  {
   "cell_type": "markdown",
   "metadata": {},
   "source": [
    "Write a Python program to check if the given string is a Palindrome or Anagram or None of them. Display the message accordingly to the user"
   ]
  },
  {
   "cell_type": "code",
   "execution_count": 5,
   "metadata": {},
   "outputs": [
    {
     "name": "stdout",
     "output_type": "stream",
     "text": [
      "Enter First Word:father\n",
      "Enter Second Word:mother\n",
      "Its not Anagram.\n"
     ]
    }
   ],
   "source": [
    "in1=input(\"Enter First Word:\")\n",
    "in2=input(\"Enter Second Word:\")\n",
    "\n",
    "def iden(in1,in2):\n",
    "    if(sorted(in1)==sorted(in2)):\n",
    "        print(\"Its Anagram.\")\n",
    "    else:\n",
    "      \n",
    "        print(\"Its not Anagram.\")\n",
    "    if(in1==in1[::-1]):\n",
    "        print(\"First word is Palindrome\")\n",
    "    if(in2==in2[::-1]):\n",
    "        print(\"Second word is Palindrome\")\n",
    "iden(in1,in2)"
   ]
  },
  {
   "cell_type": "markdown",
   "metadata": {},
   "source": [
    "Write a Python's user defined function that removes all the additional characters from the string and converts it finally to lower case using built-in lower()"
   ]
  },
  {
   "cell_type": "code",
   "execution_count": 6,
   "metadata": {},
   "outputs": [
    {
     "name": "stdout",
     "output_type": "stream",
     "text": [
      "drdarshaningleaimltrainer\n"
     ]
    }
   ],
   "source": [
    "name=\"Dr. Darshan Ingle @AI-ML Trainer\"\n",
    "def fun(f):\n",
    "    \n",
    "    string=''\n",
    "    for i in f:\n",
    "        if i.isalpha():\n",
    "            string+=i\n",
    "\n",
    "    return string.lower()\n",
    "\n",
    "print(fun(name))"
   ]
  },
  {
   "cell_type": "code",
   "execution_count": null,
   "metadata": {},
   "outputs": [],
   "source": []
  }
 ],
 "metadata": {
  "kernelspec": {
   "display_name": "Python 3",
   "language": "python",
   "name": "python3"
  },
  "language_info": {
   "codemirror_mode": {
    "name": "ipython",
    "version": 3
   },
   "file_extension": ".py",
   "mimetype": "text/x-python",
   "name": "python",
   "nbconvert_exporter": "python",
   "pygments_lexer": "ipython3",
   "version": "3.7.6"
  }
 },
 "nbformat": 4,
 "nbformat_minor": 4
}
