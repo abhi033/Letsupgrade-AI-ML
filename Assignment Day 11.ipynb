{
 "cells": [
  {
   "cell_type": "markdown",
   "metadata": {},
   "source": [
    "# Importing Pandas, Matplotlib, Scipy Pakages"
   ]
  },
  {
   "cell_type": "code",
   "execution_count": 22,
   "metadata": {},
   "outputs": [],
   "source": [
    "import pandas as pd\n",
    "import matplotlib.pyplot as plt\n",
    "from scipy.stats import pearsonr"
   ]
  },
  {
   "cell_type": "markdown",
   "metadata": {},
   "source": [
    "# importing Dataset (CSV File)"
   ]
  },
  {
   "cell_type": "code",
   "execution_count": 23,
   "metadata": {},
   "outputs": [],
   "source": [
    "dataset = pd.read_csv('general_data.csv')"
   ]
  },
  {
   "cell_type": "markdown",
   "metadata": {},
   "source": [
    "# Remove the all null values"
   ]
  },
  {
   "cell_type": "code",
   "execution_count": 24,
   "metadata": {},
   "outputs": [],
   "source": [
    "dataset.dropna(inplace=True)"
   ]
  },
  {
   "cell_type": "code",
   "execution_count": 25,
   "metadata": {},
   "outputs": [
    {
     "data": {
      "text/plain": [
       "Age                        0\n",
       "Attrition                  0\n",
       "BusinessTravel             0\n",
       "Department                 0\n",
       "DistanceFromHome           0\n",
       "Education                  0\n",
       "EducationField             0\n",
       "EmployeeCount              0\n",
       "EmployeeID                 0\n",
       "Gender                     0\n",
       "JobLevel                   0\n",
       "JobRole                    0\n",
       "MaritalStatus              0\n",
       "MonthlyIncome              0\n",
       "NumCompaniesWorked         0\n",
       "Over18                     0\n",
       "PercentSalaryHike          0\n",
       "StandardHours              0\n",
       "StockOptionLevel           0\n",
       "TotalWorkingYears          0\n",
       "TrainingTimesLastYear      0\n",
       "YearsAtCompany             0\n",
       "YearsSinceLastPromotion    0\n",
       "YearsWithCurrManager       0\n",
       "dtype: int64"
      ]
     },
     "execution_count": 25,
     "metadata": {},
     "output_type": "execute_result"
    }
   ],
   "source": [
    "dataset.isnull().sum()\n"
   ]
  },
  {
   "cell_type": "markdown",
   "metadata": {},
   "source": [
    "# convert all columns into numerical "
   ]
  },
  {
   "cell_type": "code",
   "execution_count": 26,
   "metadata": {},
   "outputs": [],
   "source": [
    "dataset = pd.get_dummies(dataset,drop_first=True)"
   ]
  },
  {
   "cell_type": "code",
   "execution_count": 34,
   "metadata": {},
   "outputs": [
    {
     "data": {
      "text/plain": [
       "['Age',\n",
       " 'DistanceFromHome',\n",
       " 'Education',\n",
       " 'EmployeeCount',\n",
       " 'EmployeeID',\n",
       " 'JobLevel',\n",
       " 'MonthlyIncome',\n",
       " 'NumCompaniesWorked',\n",
       " 'PercentSalaryHike',\n",
       " 'StandardHours',\n",
       " 'StockOptionLevel',\n",
       " 'TotalWorkingYears',\n",
       " 'TrainingTimesLastYear',\n",
       " 'YearsAtCompany',\n",
       " 'YearsSinceLastPromotion',\n",
       " 'YearsWithCurrManager',\n",
       " 'Attrition_Yes',\n",
       " 'BusinessTravel_Travel_Frequently',\n",
       " 'BusinessTravel_Travel_Rarely',\n",
       " 'Department_Research & Development',\n",
       " 'Department_Sales',\n",
       " 'EducationField_Life Sciences',\n",
       " 'EducationField_Marketing',\n",
       " 'EducationField_Medical',\n",
       " 'EducationField_Other',\n",
       " 'EducationField_Technical Degree',\n",
       " 'Gender_Male',\n",
       " 'JobRole_Human Resources',\n",
       " 'JobRole_Laboratory Technician',\n",
       " 'JobRole_Manager',\n",
       " 'JobRole_Manufacturing Director',\n",
       " 'JobRole_Research Director',\n",
       " 'JobRole_Research Scientist',\n",
       " 'JobRole_Sales Executive',\n",
       " 'JobRole_Sales Representative',\n",
       " 'MaritalStatus_Married',\n",
       " 'MaritalStatus_Single']"
      ]
     },
     "execution_count": 34,
     "metadata": {},
     "output_type": "execute_result"
    }
   ],
   "source": [
    "all_columns = list(dataset.columns)\n",
    "all_columns"
   ]
  },
  {
   "cell_type": "code",
   "execution_count": 35,
   "metadata": {},
   "outputs": [],
   "source": [
    "all_columns.remove('Attrition_Yes')\n"
   ]
  },
  {
   "cell_type": "markdown",
   "metadata": {},
   "source": [
    "# converting one columns in to all columns"
   ]
  },
  {
   "cell_type": "code",
   "execution_count": 36,
   "metadata": {},
   "outputs": [
    {
     "name": "stdout",
     "output_type": "stream",
     "text": [
      "Corellation between  Age is: -0.1583986795409671\n",
      "Corellation between  DistanceFromHome is: -0.009448638515156248\n",
      "Corellation between  Education is: -0.017106307050278723\n",
      "Corellation between  EmployeeCount is: nan\n",
      "Corellation between  EmployeeID is: -0.004620541850379514\n",
      "Corellation between  JobLevel is: -0.012381569720790877\n",
      "Corellation between  MonthlyIncome is: -0.030160293808460664\n",
      "Corellation between  NumCompaniesWorked is: 0.04283056724472088\n",
      "Corellation between  PercentSalaryHike is: 0.03315303713546665\n",
      "Corellation between  StandardHours is: nan\n",
      "Corellation between  StockOptionLevel is: -0.008164026684984328\n",
      "Corellation between  TotalWorkingYears is: -0.1696699168472392\n",
      "Corellation between  TrainingTimesLastYear is: -0.04758573693081737\n",
      "Corellation between  YearsAtCompany is: -0.1330026184252154\n",
      "Corellation between  YearsSinceLastPromotion is: -0.03142315056330995\n",
      "Corellation between  YearsWithCurrManager is: -0.15469153690287274\n",
      "Corellation between  BusinessTravel_Travel_Frequently is: 0.11323113896714168\n",
      "Corellation between  BusinessTravel_Travel_Rarely is: -0.04814605215162269\n",
      "Corellation between  Department_Research & Development is: -0.015583440078272181\n",
      "Corellation between  Department_Sales is: -0.017531072920331174\n",
      "Corellation between  EducationField_Life Sciences is: 0.013174583907034396\n",
      "Corellation between  EducationField_Marketing is: -0.002838111620665681\n",
      "Corellation between  EducationField_Medical is: -0.0011038724466464046\n",
      "Corellation between  EducationField_Other is: -0.02507069748771002\n",
      "Corellation between  EducationField_Technical Degree is: -0.03931785259584586\n",
      "Corellation between  Gender_Male is: 0.018396425194440957\n",
      "Corellation between  JobRole_Human Resources is: -0.0137369256686112\n",
      "Corellation between  JobRole_Laboratory Technician is: 0.001035620498637758\n",
      "Corellation between  JobRole_Manager is: -0.01725574772714283\n",
      "Corellation between  JobRole_Manufacturing Director is: -0.043930752314903204\n",
      "Corellation between  JobRole_Research Director is: 0.04357883417765999\n",
      "Corellation between  JobRole_Research Scientist is: 0.027547751725029622\n",
      "Corellation between  JobRole_Sales Executive is: 0.012150403280645098\n",
      "Corellation between  JobRole_Sales Representative is: -0.009653648198966396\n",
      "Corellation between  MaritalStatus_Married is: -0.08962656513467841\n",
      "Corellation between  MaritalStatus_Single is: 0.172941654460119\n"
     ]
    }
   ],
   "source": [
    "for one_column in all_columns:\n",
    "    corr,_ = pearsonr(dataset['Attrition_Yes'],dataset[one_column])\n",
    "    print('Corellation between ',one_column,'is:',corr)"
   ]
  },
  {
   "cell_type": "code",
   "execution_count": null,
   "metadata": {},
   "outputs": [],
   "source": []
  }
 ],
 "metadata": {
  "kernelspec": {
   "display_name": "Python 3",
   "language": "python",
   "name": "python3"
  },
  "language_info": {
   "codemirror_mode": {
    "name": "ipython",
    "version": 3
   },
   "file_extension": ".py",
   "mimetype": "text/x-python",
   "name": "python",
   "nbconvert_exporter": "python",
   "pygments_lexer": "ipython3",
   "version": "3.7.6"
  }
 },
 "nbformat": 4,
 "nbformat_minor": 4
}
