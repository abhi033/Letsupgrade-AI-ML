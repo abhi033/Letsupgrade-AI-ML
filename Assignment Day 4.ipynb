{
 "cells": [
  {
   "cell_type": "markdown",
   "metadata": {},
   "source": [
    "#  addition, subtraction, multiplication, division, floor division and modulo operations be performed on complex numbers"
   ]
  },
  {
   "cell_type": "code",
   "execution_count": 11,
   "metadata": {},
   "outputs": [
    {
     "name": "stdout",
     "output_type": "stream",
     "text": [
      "Complex no is 5+4j and 3+2j\n",
      "Addtion is :  (8+6j)\n",
      "Substraction is :  (2+2j)\n",
      "Multiplication is :  (7+22j)\n",
      "Division is :  (1.7692307692307692+0.15384615384615394j)\n"
     ]
    },
    {
     "data": {
      "text/plain": [
       "'\"\" Floor div and modules are not possible to perform'"
      ]
     },
     "execution_count": 11,
     "metadata": {},
     "output_type": "execute_result"
    }
   ],
   "source": [
    "def addComplexno( i1, i2): \n",
    "    return i1 + i2 \n",
    "\n",
    "def subComplexno( i1, i2): \n",
    "    return i1 - i2 \n",
    "\n",
    "def mulComplexno( i1, i2): \n",
    "    return i1 * i2 \n",
    "\n",
    "def divComplexno( i1, i2): \n",
    "    return i1 / i2 \n",
    "\n",
    "i1 = complex(5, 4) \n",
    "i2 = complex(3, 2) \n",
    "\n",
    "print(\"Complex no is 5+4j and 3+2j\")\n",
    "print( \"Addtion is : \", addComplexno(i1, i2)) \n",
    "print( \"Substraction is : \", subComplexno(i1, i2))\n",
    "print( \"Multiplication is : \", mulComplexno(i1, i2)) \n",
    "print( \"Division is : \", divComplexno(i1, i2)) \n",
    "\"\"\"\"\" Floor div and modules are not possible to perform\"\"\""
   ]
  },
  {
   "cell_type": "markdown",
   "metadata": {},
   "source": [
    "# Research on range() functions and its parameters"
   ]
  },
  {
   "cell_type": "code",
   "execution_count": 25,
   "metadata": {},
   "outputs": [
    {
     "name": "stdout",
     "output_type": "stream",
     "text": [
      "Enter the no.2\n",
      "Even numbers counts:  0\n",
      "Odd numbers counts:  1\n"
     ]
    }
   ],
   "source": [
    "n=int(input(\"Enter the no.\")) #user input\n",
    "\n",
    "x=range(1,n)\n",
    "  \n",
    "even, odd = 0, 0\n",
    "num=0\n",
    "for num in x: \n",
    "      \n",
    "    if num % 2 == 0: \n",
    "        even += 1\n",
    "  \n",
    "    else: \n",
    "        odd += 1\n",
    "          \n",
    "print(\"Even numbers counts: \", even) \n",
    "print(\"Odd numbers counts: \", odd) "
   ]
  },
  {
   "cell_type": "markdown",
   "metadata": {},
   "source": [
    "# Perform their subtraction and if the result of subtraction is greater than 25, print their multiplication result else print their division result"
   ]
  },
  {
   "cell_type": "code",
   "execution_count": 3,
   "metadata": {},
   "outputs": [
    {
     "name": "stdout",
     "output_type": "stream",
     "text": [
      "enter number:/n10\n",
      "enter number:/n5\n",
      "substract is =  5\n",
      "1.0\n"
     ]
    }
   ],
   "source": [
    "num1 = int (input(\"enter number:\"))\n",
    "num2 = int (input(\"enter number:\"))\n",
    "\n",
    "result = num1 - num2\n",
    "print (\"substract is = \", result)\n",
    "\n",
    "if result > 25:\n",
    "    Print (result*result)\n",
    "else:\n",
    "    print (result/result)\n"
   ]
  },
  {
   "cell_type": "markdown",
   "metadata": {},
   "source": [
    "# If the number in the list is divisible by 2, print the result as \"square of that number minus 2\". "
   ]
  },
  {
   "cell_type": "code",
   "execution_count": 12,
   "metadata": {},
   "outputs": [
    {
     "name": "stdout",
     "output_type": "stream",
     "text": [
      "1\n",
      "2\n",
      "3\n",
      "98\n",
      "2498\n",
      "3598\n",
      "8098\n",
      "898\n",
      "1598\n"
     ]
    }
   ],
   "source": [
    "mylist=[1,2,3,10,50,60,90,30,40]\n",
    "x=0\n",
    "for num in mylist:\n",
    "    if (num%2==0):\n",
    "        x=(num**2)-2\n",
    "        print(x) \n",
    "    else:\n",
    "        y=num\n",
    "        print(y)"
   ]
  },
  {
   "cell_type": "markdown",
   "metadata": {},
   "source": [
    "# Print all the elements in the list which are greater than 7 when that number is divided 2. "
   ]
  },
  {
   "cell_type": "code",
   "execution_count": 16,
   "metadata": {},
   "outputs": [
    {
     "name": "stdout",
     "output_type": "stream",
     "text": [
      "10\n",
      "2\n",
      "4\n",
      "18\n",
      "6\n"
     ]
    }
   ],
   "source": [
    "mylist=[1,7,9,10,2,4,11,3,18,6]\n",
    "y=0\n",
    "for num in mylist:\n",
    "    if (num >7 & num%2==0):\n",
    "        print(num) \n"
   ]
  },
  {
   "cell_type": "code",
   "execution_count": null,
   "metadata": {},
   "outputs": [],
   "source": []
  }
 ],
 "metadata": {
  "kernelspec": {
   "display_name": "Python 3",
   "language": "python",
   "name": "python3"
  },
  "language_info": {
   "codemirror_mode": {
    "name": "ipython",
    "version": 3
   },
   "file_extension": ".py",
   "mimetype": "text/x-python",
   "name": "python",
   "nbconvert_exporter": "python",
   "pygments_lexer": "ipython3",
   "version": "3.7.6"
  }
 },
 "nbformat": 4,
 "nbformat_minor": 4
}
